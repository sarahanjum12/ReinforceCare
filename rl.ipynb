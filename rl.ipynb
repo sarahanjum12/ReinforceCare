{
 "cells": [
  {
   "cell_type": "code",
   "execution_count": 1,
   "metadata": {},
   "outputs": [],
   "source": [
    "import pandas as pd\n",
    "import numpy as np\n",
    "import gym\n",
    "from gym import spaces\n",
    "from stable_baselines3 import PPO\n",
    "from sklearn.preprocessing import OneHotEncoder"
   ]
  },
  {
   "cell_type": "code",
   "execution_count": 13,
   "metadata": {},
   "outputs": [],
   "source": [
    "# Prepare symptoms data\n",
    "\n",
    "diets = pd.read_csv('diets.csv')\n",
    "medications = pd.read_csv('medications.csv')\n",
    "precautions = pd.read_csv('precautions_df.csv')\n",
    "symptom_severity = pd.read_csv('Symptom-severity.csv')\n",
    "symptoms = pd.read_csv('symtoms_df.csv')\n",
    "workouts = pd.read_csv('workout_df.csv')"
   ]
  },
  {
   "cell_type": "code",
   "execution_count": 14,
   "metadata": {},
   "outputs": [],
   "source": [
    "# Prepare symptoms data\n",
    "symptoms_long = symptoms.melt(id_vars=['Disease'], value_vars=[f'Symptom_{i}' for i in range(1, 5)], var_name='SymptomType', value_name='Symptom')\n",
    "symptoms_severity = pd.merge(symptoms_long, symptom_severity, on='Symptom')"
   ]
  },
  {
   "cell_type": "code",
   "execution_count": 15,
   "metadata": {},
   "outputs": [],
   "source": [
    "# One-hot encode symptoms\n",
    "encoder = OneHotEncoder(sparse_output=False, drop='first')\n",
    "encoded_symptoms = encoder.fit_transform(symptoms_severity[['Symptom']])\n",
    "encoded_symptoms_df = pd.DataFrame(encoded_symptoms, columns=encoder.get_feature_names_out(['Symptom']))\n",
    "symptoms_severity_encoded = pd.concat([symptoms_severity.drop(['Symptom'], axis=1), encoded_symptoms_df], axis=1)\n"
   ]
  },
  {
   "cell_type": "code",
   "execution_count": 16,
   "metadata": {},
   "outputs": [],
   "source": [
    "# Define custom healthcare environment class\n",
    "class HealthcareEnv(gym.Env):\n",
    "    def __init__(self):\n",
    "        super(HealthcareEnv, self).__init__()\n",
    "\n",
    "        # Define action space: actions based on treatments (diets, medications, workouts, precautions)\n",
    "        self.n_actions = len(diets) + len(medications) + len(workouts)\n",
    "        self.action_space = spaces.Discrete(self.n_actions)\n",
    "\n",
    "        # Define observation space (features from the encoded symptom severity data)\n",
    "        self.observation_space = spaces.Box(low=0, high=1, shape=(len(symptoms_severity_encoded.columns),), dtype=np.float32)\n",
    "\n",
    "        # Initialize state (random initial state based on symptoms severity)\n",
    "        self.state = symptoms_severity_encoded.sample(1).iloc[0].values\n",
    "        self.done = False\n",
    "\n",
    "    def reset(self):\n",
    "        # Reset the state to a new random sample of symptom severities\n",
    "        self.state = symptoms_severity_encoded.sample(1).iloc[0].values\n",
    "        self.done = False\n",
    "        return np.array(self.state, dtype=np.float32)\n",
    "\n",
    "    def step(self, action):\n",
    "        # Simplified logic: reduce severity based on action (could be expanded)\n",
    "        if action < len(diets):  # Diet action\n",
    "            self.state = np.clip(self.state - np.random.rand(len(self.state)) * 0.1, 0, 1)\n",
    "        elif action < len(diets) + len(medications):  # Medication action\n",
    "            self.state = np.clip(self.state - np.random.rand(len(self.state)) * 0.2, 0, 1)\n",
    "        else:  # Workout action\n",
    "            self.state = np.clip(self.state - np.random.rand(len(self.state)) * 0.15, 0, 1)\n",
    "\n",
    "        # Reward: lower symptom severity should give a higher reward\n",
    "        reward = -np.sum(self.state)\n",
    "\n",
    "        # End the episode if all symptoms are near zero (treatment success)\n",
    "        self.done = np.all(self.state < 0.1)\n",
    "\n",
    "        return np.array(self.state, dtype=np.float32), reward, self.done, {}\n",
    "\n",
    "    def render(self, mode='human'):\n",
    "        print(f\"Current symptom severities: {self.state}\")"
   ]
  },
  {
   "cell_type": "code",
   "execution_count": 17,
   "metadata": {},
   "outputs": [],
   "source": [
    "# Initialize the healthcare environment\n",
    "env = HealthcareEnv()"
   ]
  },
  {
   "cell_type": "code",
   "execution_count": null,
   "metadata": {},
   "outputs": [
    {
     "name": "stdout",
     "output_type": "stream",
     "text": [
      "Using cpu device\n",
      "Wrapping the env with a `Monitor` wrapper\n",
      "Wrapping the env in a DummyVecEnv.\n"
     ]
    },
    {
     "name": "stderr",
     "output_type": "stream",
     "text": [
      "/Library/Frameworks/Python.framework/Versions/3.11/lib/python3.11/site-packages/stable_baselines3/common/vec_env/patch_gym.py:49: UserWarning: You provided an OpenAI Gym environment. We strongly recommend transitioning to Gymnasium environments. Stable-Baselines3 is automatically wrapping your environments in a compatibility layer, which could potentially cause issues.\n",
      "  warnings.warn(\n"
     ]
    }
   ],
   "source": [
    "# Initialize the PPO model and start training\n",
    "model = PPO('MlpPolicy', env, verbose=1)"
   ]
  },
  {
   "cell_type": "code",
   "execution_count": 20,
   "metadata": {},
   "outputs": [],
   "source": [
    "from sklearn.preprocessing import LabelEncoder\n",
    "# Assuming your state has a categorical column like 'disease'\n",
    "label_encoder = LabelEncoder()"
   ]
  },
  {
   "cell_type": "code",
   "execution_count": 21,
   "metadata": {},
   "outputs": [],
   "source": [
    "# Fit and transform the disease column\n",
    "symptoms_severity_encoded['Disease'] = label_encoder.fit_transform(symptoms_severity_encoded['Disease'])"
   ]
  },
  {
   "cell_type": "code",
   "execution_count": 23,
   "metadata": {},
   "outputs": [
    {
     "name": "stdout",
     "output_type": "stream",
     "text": [
      "                                      Disease  abdominal_pain  acidity  \\\n",
      "0                            Fungal infection               0        0   \n",
      "1                            Fungal infection               0        0   \n",
      "2                            Fungal infection               0        0   \n",
      "3                            Fungal infection               0        0   \n",
      "4                            Fungal infection               0        0   \n",
      "...                                       ...             ...      ...   \n",
      "4915  (vertigo) Paroymsal  Positional Vertigo               0        0   \n",
      "4916                                     Acne               0        0   \n",
      "4917                  Urinary tract infection               0        0   \n",
      "4918                                Psoriasis               0        0   \n",
      "4919                                 Impetigo               0        0   \n",
      "\n",
      "      altered_sensorium  anxiety  back_pain  blackheads  bladder_discomfort  \\\n",
      "0                     0        0          0           0                   0   \n",
      "1                     0        0          0           0                   0   \n",
      "2                     0        0          0           0                   0   \n",
      "3                     0        0          0           0                   0   \n",
      "4                     0        0          0           0                   0   \n",
      "...                 ...      ...        ...         ...                 ...   \n",
      "4915                  0        0          0           0                   0   \n",
      "4916                  0        0          0           1                   0   \n",
      "4917                  0        0          0           0                   1   \n",
      "4918                  0        0          0           0                   0   \n",
      "4919                  0        0          0           0                   0   \n",
      "\n",
      "      blister  bloody_stool  ...  ulcers_on_tongue  vomiting  \\\n",
      "0           0             0  ...                 0         0   \n",
      "1           0             0  ...                 0         0   \n",
      "2           0             0  ...                 0         0   \n",
      "3           0             0  ...                 0         0   \n",
      "4           0             0  ...                 0         0   \n",
      "...       ...           ...  ...               ...       ...   \n",
      "4915        0             0  ...                 0         1   \n",
      "4916        0             0  ...                 0         0   \n",
      "4917        0             0  ...                 0         0   \n",
      "4918        0             0  ...                 0         0   \n",
      "4919        1             0  ...                 0         0   \n",
      "\n",
      "      watering_from_eyes  weakness_in_limbs  weakness_of_one_body_side  \\\n",
      "0                      0                  0                          0   \n",
      "1                      0                  0                          0   \n",
      "2                      0                  0                          0   \n",
      "3                      0                  0                          0   \n",
      "4                      0                  0                          0   \n",
      "...                  ...                ...                        ...   \n",
      "4915                   0                  0                          0   \n",
      "4916                   0                  0                          0   \n",
      "4917                   0                  0                          0   \n",
      "4918                   0                  0                          0   \n",
      "4919                   0                  0                          0   \n",
      "\n",
      "      weight_gain  weight_loss  yellow_crust_ooze  yellowing_of_eyes  \\\n",
      "0               0            0                  0                  0   \n",
      "1               0            0                  0                  0   \n",
      "2               0            0                  0                  0   \n",
      "3               0            0                  0                  0   \n",
      "4               0            0                  0                  0   \n",
      "...           ...          ...                ...                ...   \n",
      "4915            0            0                  0                  0   \n",
      "4916            0            0                  0                  0   \n",
      "4917            0            0                  0                  0   \n",
      "4918            0            0                  0                  0   \n",
      "4919            0            0                  0                  0   \n",
      "\n",
      "      yellowish_skin  \n",
      "0                  0  \n",
      "1                  0  \n",
      "2                  0  \n",
      "3                  0  \n",
      "4                  0  \n",
      "...              ...  \n",
      "4915               0  \n",
      "4916               0  \n",
      "4917               0  \n",
      "4918               0  \n",
      "4919               0  \n",
      "\n",
      "[4920 rows x 87 columns]\n"
     ]
    }
   ],
   "source": [
    "# Import necessary libraries\n",
    "import numpy as np\n",
    "import pandas as pd\n",
    "from stable_baselines3 import PPO\n",
    "from stable_baselines3.common.vec_env import DummyVecEnv  # Corrected import\n",
    "from sklearn.preprocessing import MultiLabelBinarizer\n",
    "import gym\n",
    "\n",
    "# Load your data\n",
    "symptoms_df = pd.read_csv('symtoms_df.csv')\n",
    "\n",
    "# Check for any leading/trailing spaces in column names\n",
    "symptoms_df.columns = symptoms_df.columns.str.strip()\n",
    "\n",
    "# Preprocess the symptoms: convert symptom columns to lists of symptoms\n",
    "symptoms_df['symptoms'] = symptoms_df[['Symptom_1', 'Symptom_2', 'Symptom_3', 'Symptom_4']].apply(lambda x: [s.strip() for s in x.tolist() if isinstance(s, str)], axis=1)\n",
    "\n",
    "# One-hot encode the symptoms using MultiLabelBinarizer\n",
    "mlb = MultiLabelBinarizer()\n",
    "symptom_encoded = mlb.fit_transform(symptoms_df['symptoms'])\n",
    "\n",
    "# Create a new DataFrame with encoded symptoms\n",
    "encoded_symptoms_df = pd.DataFrame(symptom_encoded, columns=mlb.classes_)\n",
    "\n",
    "# Concatenate encoded symptoms with the disease column\n",
    "final_data = pd.concat([symptoms_df[['Disease']], encoded_symptoms_df], axis=1)\n",
    "\n",
    "# Print the final data to verify encoding\n",
    "print(final_data)\n",
    "\n",
    "# Define the custom environment\n",
    "class HealthcareEnv(gym.Env):\n",
    "    def __init__(self):\n",
    "        super(HealthcareEnv, self).__init__()\n",
    "        self.action_space = gym.spaces.Discrete(2)  # Example: Two possible actions\n",
    "        self.observation_space = gym.spaces.Box(low=0, high=1, shape=(encoded_symptoms_df.shape[1],), dtype=np.float32)\n",
    "        self.state = None\n",
    "        self.done = False\n",
    "\n",
    "    def reset(self):\n",
    "        # Sample a random state (numeric representation)\n",
    "        self.state = encoded_symptoms_df.sample(1).values.flatten()  # Flatten to 1D array\n",
    "        self.done = False\n",
    "        return np.array(self.state, dtype=np.float32)\n",
    "        def step(self, action):\n",
    "        # Your logic to determine the next state and reward goes here\n",
    "        # reward = 1 if action == 1 else -1  # Example: reward based on the action\n",
    "           self.done = True  # End the episode after one step\n",
    "           return self.state, reward, self.done, {}"
   ]
  },
  {
   "cell_type": "code",
   "execution_count": 24,
   "metadata": {},
   "outputs": [
    {
     "name": "stderr",
     "output_type": "stream",
     "text": [
      "/Library/Frameworks/Python.framework/Versions/3.11/lib/python3.11/site-packages/stable_baselines3/common/vec_env/patch_gym.py:49: UserWarning: You provided an OpenAI Gym environment. We strongly recommend transitioning to Gymnasium environments. Stable-Baselines3 is automatically wrapping your environments in a compatibility layer, which could potentially cause issues.\n",
      "  warnings.warn(\n"
     ]
    }
   ],
   "source": [
    "# Create the environment\n",
    "env = DummyVecEnv([lambda: HealthcareEnv()])"
   ]
  },
  {
   "cell_type": "code",
   "execution_count": 25,
   "metadata": {},
   "outputs": [
    {
     "name": "stdout",
     "output_type": "stream",
     "text": [
      "Using cpu device\n"
     ]
    }
   ],
   "source": [
    "# Initialize the PPO model\n",
    "model = PPO('MlpPolicy', env, verbose=1)"
   ]
  },
  {
   "cell_type": "code",
   "execution_count": 27,
   "metadata": {},
   "outputs": [
    {
     "name": "stdout",
     "output_type": "stream",
     "text": [
      "Using cpu device\n",
      "---------------------------------\n",
      "| rollout/           |          |\n",
      "|    ep_len_mean     | 22.4     |\n",
      "|    ep_rew_mean     | 22.4     |\n",
      "| time/              |          |\n",
      "|    fps             | 6976     |\n",
      "|    iterations      | 1        |\n",
      "|    time_elapsed    | 0        |\n",
      "|    total_timesteps | 2048     |\n",
      "---------------------------------\n",
      "-----------------------------------------\n",
      "| rollout/                |             |\n",
      "|    ep_len_mean          | 26.4        |\n",
      "|    ep_rew_mean          | 26.4        |\n",
      "| time/                   |             |\n",
      "|    fps                  | 4194        |\n",
      "|    iterations           | 2           |\n",
      "|    time_elapsed         | 0           |\n",
      "|    total_timesteps      | 4096        |\n",
      "| train/                  |             |\n",
      "|    approx_kl            | 0.008967783 |\n",
      "|    clip_fraction        | 0.108       |\n",
      "|    clip_range           | 0.2         |\n",
      "|    entropy_loss         | -0.686      |\n",
      "|    explained_variance   | -0.00633    |\n",
      "|    learning_rate        | 0.0003      |\n",
      "|    loss                 | 6.01        |\n",
      "|    n_updates            | 10          |\n",
      "|    policy_gradient_loss | -0.0169     |\n",
      "|    value_loss           | 51.9        |\n",
      "-----------------------------------------\n",
      "---------------------------------------\n",
      "| rollout/                |           |\n",
      "|    ep_len_mean          | 34.1      |\n",
      "|    ep_rew_mean          | 34.1      |\n",
      "| time/                   |           |\n",
      "|    fps                  | 3898      |\n",
      "|    iterations           | 3         |\n",
      "|    time_elapsed         | 1         |\n",
      "|    total_timesteps      | 6144      |\n",
      "| train/                  |           |\n",
      "|    approx_kl            | 0.0093231 |\n",
      "|    clip_fraction        | 0.0628    |\n",
      "|    clip_range           | 0.2       |\n",
      "|    entropy_loss         | -0.666    |\n",
      "|    explained_variance   | 0.0832    |\n",
      "|    learning_rate        | 0.0003    |\n",
      "|    loss                 | 12        |\n",
      "|    n_updates            | 20        |\n",
      "|    policy_gradient_loss | -0.0172   |\n",
      "|    value_loss           | 35.2      |\n",
      "---------------------------------------\n",
      "-----------------------------------------\n",
      "| rollout/                |             |\n",
      "|    ep_len_mean          | 48.4        |\n",
      "|    ep_rew_mean          | 48.4        |\n",
      "| time/                   |             |\n",
      "|    fps                  | 3791        |\n",
      "|    iterations           | 4           |\n",
      "|    time_elapsed         | 2           |\n",
      "|    total_timesteps      | 8192        |\n",
      "| train/                  |             |\n",
      "|    approx_kl            | 0.011378397 |\n",
      "|    clip_fraction        | 0.0914      |\n",
      "|    clip_range           | 0.2         |\n",
      "|    entropy_loss         | -0.632      |\n",
      "|    explained_variance   | 0.218       |\n",
      "|    learning_rate        | 0.0003      |\n",
      "|    loss                 | 20.7        |\n",
      "|    n_updates            | 30          |\n",
      "|    policy_gradient_loss | -0.019      |\n",
      "|    value_loss           | 52.1        |\n",
      "-----------------------------------------\n",
      "-----------------------------------------\n",
      "| rollout/                |             |\n",
      "|    ep_len_mean          | 62.8        |\n",
      "|    ep_rew_mean          | 62.8        |\n",
      "| time/                   |             |\n",
      "|    fps                  | 3751        |\n",
      "|    iterations           | 5           |\n",
      "|    time_elapsed         | 2           |\n",
      "|    total_timesteps      | 10240       |\n",
      "| train/                  |             |\n",
      "|    approx_kl            | 0.006812154 |\n",
      "|    clip_fraction        | 0.0597      |\n",
      "|    clip_range           | 0.2         |\n",
      "|    entropy_loss         | -0.612      |\n",
      "|    explained_variance   | 0.325       |\n",
      "|    learning_rate        | 0.0003      |\n",
      "|    loss                 | 17.5        |\n",
      "|    n_updates            | 40          |\n",
      "|    policy_gradient_loss | -0.0148     |\n",
      "|    value_loss           | 64.4        |\n",
      "-----------------------------------------\n"
     ]
    },
    {
     "data": {
      "text/plain": [
       "<stable_baselines3.ppo.ppo.PPO at 0x303ab7790>"
      ]
     },
     "execution_count": 27,
     "metadata": {},
     "output_type": "execute_result"
    }
   ],
   "source": [
    "import gym\n",
    "from stable_baselines3 import PPO\n",
    "from stable_baselines3.common.env_util import make_vec_env\n",
    "\n",
    "# Create a valid environment\n",
    "env = make_vec_env('CartPole-v1', n_envs=1)\n",
    "model = PPO('MlpPolicy', env, verbose=1)\n",
    "\n",
    "# Train the model\n",
    "model.learn(total_timesteps=10000)\n"
   ]
  },
  {
   "cell_type": "code",
   "execution_count": 28,
   "metadata": {},
   "outputs": [
    {
     "name": "stdout",
     "output_type": "stream",
     "text": [
      "Action: [1], Next State: [[ 0.04119264  0.1478849   0.02753637 -0.23699445]], Reward: [1.]\n",
      "Action: [0], Next State: [[ 0.04415034 -0.04761941  0.02279648  0.06424551]], Reward: [1.]\n",
      "Action: [1], Next State: [[ 0.04319795  0.14716841  0.02408139 -0.22115871]], Reward: [1.]\n",
      "Action: [0], Next State: [[ 0.04614132 -0.04828933  0.01965822  0.07902214]], Reward: [1.]\n",
      "Action: [1], Next State: [[ 0.04517553  0.14654538  0.02123866 -0.20739432]], Reward: [1.]\n",
      "Action: [0], Next State: [[ 0.04810644 -0.04887374  0.01709078  0.09191195]], Reward: [1.]\n",
      "Action: [1], Next State: [[ 0.04712896  0.14599913  0.01892901 -0.19533022]], Reward: [1.]\n",
      "Action: [1], Next State: [[ 0.05004895  0.3408453   0.01502241 -0.4819823 ]], Reward: [1.]\n",
      "Action: [0], Next State: [[ 0.05686585  0.14551455  0.00538276 -0.18460283]], Reward: [1.]\n",
      "Action: [0], Next State: [[ 0.05977614 -0.04968401  0.00169071  0.10977329]], Reward: [1.]\n"
     ]
    }
   ],
   "source": [
    "# Test the model with 10 steps\n",
    "state = env.reset()\n",
    "for _ in range(10):\n",
    "    action, _states = model.predict(state)\n",
    "    next_state, reward, done, _ = env.step(action)\n",
    "    print(f\"Action: {action}, Next State: {next_state}, Reward: {reward}\")\n",
    "    if done:\n",
    "        state = env.reset()\n",
    "    else:\n",
    "        state = next_state"
   ]
  },
  {
   "cell_type": "code",
   "execution_count": 29,
   "metadata": {},
   "outputs": [],
   "source": [
    "# Save the trained model\n",
    "model.save(\"healthcare_recommendation_model\")"
   ]
  },
  {
   "cell_type": "code",
   "execution_count": 82,
   "metadata": {},
   "outputs": [],
   "source": [
    "# Load and test the saved model\n",
    "model = PPO.load(\"healthcare_recommendation_model\")"
   ]
  },
  {
   "cell_type": "code",
   "execution_count": 83,
   "metadata": {},
   "outputs": [
    {
     "name": "stdout",
     "output_type": "stream",
     "text": [
      "Action: [0], Next State: [[ 0.01089642 -0.19944836 -0.03459849  0.31739366]], Reward: [1.]\n",
      "Action: [1], Next State: [[ 0.00690745 -0.00385114 -0.02825061  0.01400349]], Reward: [1.]\n",
      "Action: [1], Next State: [[ 0.00683043  0.19166432 -0.02797054 -0.28745726]], Reward: [1.]\n",
      "Action: [0], Next State: [[ 0.01066372 -0.0030478  -0.03371969 -0.00372558]], Reward: [1.]\n",
      "Action: [1], Next State: [[ 0.01060276  0.19254111 -0.0337942  -0.3068539 ]], Reward: [1.]\n",
      "Action: [0], Next State: [[ 0.01445358 -0.0020834  -0.03993128 -0.02501741]], Reward: [1.]\n",
      "Action: [1], Next State: [[ 0.01441191  0.19358777 -0.04043163 -0.33002687]], Reward: [1.]\n",
      "Action: [0], Next State: [[ 0.01828367 -0.000936   -0.04703217 -0.05036334]], Reward: [1.]\n",
      "Action: [0], Next State: [[ 0.01826495 -0.1953531  -0.04803943  0.22711748]], Reward: [1.]\n",
      "Action: [1], Next State: [[ 0.01435789  0.00042129 -0.04349708 -0.08032349]], Reward: [1.]\n"
     ]
    }
   ],
   "source": [
    "# Test again after loading the model\n",
    "state = env.reset()\n",
    "for _ in range(10):\n",
    "    action, _states = model.predict(state)\n",
    "    next_state, reward, done, _ = env.step(action)\n",
    "    print(f\"Action: {action}, Next State: {next_state}, Reward: {reward}\")\n",
    "    if done:\n",
    "        state = env.reset()\n",
    "    else:\n",
    "        state = next_state"
   ]
  },
  {
   "cell_type": "code",
   "execution_count": 84,
   "metadata": {},
   "outputs": [],
   "source": [
    "def get_health_recommendation():\n",
    "    # Ask the user for their symptoms\n",
    "    print(\"Please enter your symptoms (comma-separated):\")\n",
    "    user_input = input()\n",
    "    \n",
    "    # Preprocess the input to match the expected format\n",
    "    user_symptoms = [symptom.strip() for symptom in user_input.split(\",\")]\n",
    "    \n",
    "    # Validate symptoms\n",
    "    valid_symptoms = set(mlb.classes_)\n",
    "    user_symptoms = [symptom for symptom in user_symptoms if symptom in valid_symptoms]\n",
    "    if not user_symptoms:\n",
    "        print(\"No valid symptoms entered. Please try again.\")\n",
    "        return\n",
    "    \n",
    "    # Create a DataFrame to hold the user's symptoms\n",
    "    user_symptoms_df = pd.DataFrame(columns=mlb.classes_)\n",
    "    user_symptoms_df.loc[0] = mlb.transform([user_symptoms])[0]\n",
    "\n",
    "    # Set the environment state to the user's symptoms\n",
    "    state = user_symptoms_df.values.flatten().astype(np.float32)\n",
    "    \n",
    "    # If necessary, reduce state dimensions\n",
    "    if len(state) > env.observation_space.shape[0]:\n",
    "        state = state[:env.observation_space.shape[0]]  # Keep only the expected number of features\n",
    "    \n",
    "    # Reshape the state for prediction\n",
    "    state = state.reshape(1, -1)\n",
    "\n",
    "    # Use the model to predict the best action\n",
    "    action, _ = model.predict(state)\n",
    "    \n",
    "    # Determine the recommendation type\n",
    "    if action < len(diets):  # Diet recommendation\n",
    "        recommendation_type = \"Diet\"\n",
    "        diet_value = diets.iloc[action]['Diet']  # Replace 'Diet' with actual column name for diet\n",
    "\n",
    "        # If the diet is a string representation of a list, evaluate it\n",
    "        if isinstance(diet_value, str):\n",
    "            try:\n",
    "                diet_list = eval(diet_value)  # Convert string to list\n",
    "            except Exception as e:\n",
    "                print(f\"Error parsing Diet: {e}\")\n",
    "                diet_list = [diet_value]  # Fallback to a list with the string\n",
    "        elif isinstance(diet_value, pd.Series):  # Handle if diet_value is a pandas Series\n",
    "            diet_list = diet_value.tolist()  # Convert Series to list\n",
    "        else:\n",
    "            diet_list = [diet_value]  # Fallback for unexpected types\n",
    "\n",
    "        recommendation = \", \".join([str(item) for item in diet_list])  # Ensure all items are strings\n",
    "\n",
    "    elif action < len(diets) + len(medications):  # Medication recommendation\n",
    "        recommendation_type = \"Medication\"\n",
    "        medication_value = medications.iloc[action - len(diets)]['Medication_Name']  # Replace with actual column name for medication\n",
    "\n",
    "        recommendation = medication_value  # Display the medication recommendation\n",
    "\n",
    "    else:  # Workout recommendation\n",
    "        recommendation_type = \"Workout\"\n",
    "        workout_value = workouts.iloc[action - len(diets) - len(medications)]['Workout_Type']  # Replace with actual column name for workout\n",
    "\n",
    "        recommendation = workout_value  # Display the workout recommendation\n",
    "\n",
    "    # Print the recommendation\n",
    "    print(f\"We recommend the following {recommendation_type}: {recommendation}\")\n"
   ]
  },
  {
   "cell_type": "code",
   "execution_count": 86,
   "metadata": {},
   "outputs": [
    {
     "name": "stdout",
     "output_type": "stream",
     "text": [
      "Please enter your symptoms (comma-separated):\n",
      "No valid symptoms entered. Please try again.\n"
     ]
    }
   ],
   "source": [
    "# Run the recommendation function\n",
    "get_health_recommendation()"
   ]
  }
 ],
 "metadata": {
  "kernelspec": {
   "display_name": "Python 3",
   "language": "python",
   "name": "python3"
  },
  "language_info": {
   "codemirror_mode": {
    "name": "ipython",
    "version": 3
   },
   "file_extension": ".py",
   "mimetype": "text/x-python",
   "name": "python",
   "nbconvert_exporter": "python",
   "pygments_lexer": "ipython3",
   "version": "3.11.9"
  }
 },
 "nbformat": 4,
 "nbformat_minor": 2
}
