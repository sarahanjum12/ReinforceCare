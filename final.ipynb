{
 "cells": [
  {
   "cell_type": "code",
   "execution_count": 8,
   "metadata": {},
   "outputs": [],
   "source": [
    "import pandas as pd\n",
    "import numpy as np\n",
    "import gym\n",
    "from gym import spaces\n",
    "from stable_baselines3 import PPO\n",
    "from gym.envs.registration import register\n",
    "from sklearn.preprocessing import MultiLabelBinarizer"
   ]
  },
  {
   "cell_type": "code",
   "execution_count": 2,
   "metadata": {},
   "outputs": [],
   "source": [
    "# Load datasets\n",
    "diets = pd.read_csv('diets.csv')\n",
    "medications = pd.read_csv('medications.csv')\n",
    "precautions = pd.read_csv('precautions_df.csv')\n",
    "symptom_severity = pd.read_csv('Symptom-severity.csv')\n",
    "symptoms = pd.read_csv('symtoms_df.csv')\n",
    "workouts = pd.read_csv('workout_df.csv')"
   ]
  },
  {
   "cell_type": "code",
   "execution_count": 3,
   "metadata": {},
   "outputs": [],
   "source": [
    "# Prepare the symptoms dataset\n",
    "symptoms['symptoms'] = symptoms[['Symptom_1', 'Symptom_2', 'Symptom_3', 'Symptom_4']].apply(\n",
    "    lambda x: [s.strip() for s in x.tolist() if isinstance(s, str)], axis=1\n",
    ")"
   ]
  },
  {
   "cell_type": "code",
   "execution_count": 4,
   "metadata": {},
   "outputs": [],
   "source": [
    "# One-hot encode symptoms\n",
    "mlb = MultiLabelBinarizer()\n",
    "symptom_encoded = mlb.fit_transform(symptoms['symptoms'])\n",
    "encoded_symptoms_df = pd.DataFrame(symptom_encoded, columns=mlb.classes_)"
   ]
  },
  {
   "cell_type": "code",
   "execution_count": 5,
   "metadata": {},
   "outputs": [],
   "source": [
    "# Concatenate encoded symptoms with diseases\n",
    "final_data = pd.concat([symptoms[['Disease']], encoded_symptoms_df], axis=1)"
   ]
  },
  {
   "cell_type": "code",
   "execution_count": 9,
   "metadata": {},
   "outputs": [],
   "source": [
    "class HealthcareEnv(gym.Env):\n",
    "    def __init__(self):\n",
    "        super(HealthcareEnv, self).__init__()\n",
    "        self.action_space = spaces.Discrete(len(diets) + len(medications) + len(workouts))\n",
    "        self.observation_space = spaces.Box(low=0, high=1, shape=(encoded_symptoms_df.shape[1],), dtype=np.float32)\n",
    "        self.state = None\n",
    "        self.done = False\n",
    "\n",
    "    def reset(self):\n",
    "        # Randomly sample initial state\n",
    "        self.state = encoded_symptoms_df.sample(1).values.flatten()\n",
    "        self.done = False\n",
    "        return np.array(self.state, dtype=np.float32)\n",
    "\n",
    "    def step(self, action):\n",
    "        # Reduce symptom severity based on action\n",
    "        if action < len(diets):  # Diet action\n",
    "            self.state = np.clip(self.state - np.random.rand(len(self.state)) * 0.1, 0, 1)\n",
    "        elif action < len(diets) + len(medications):  # Medication action\n",
    "            self.state = np.clip(self.state - np.random.rand(len(self.state)) * 0.2, 0, 1)\n",
    "        else:  # Workout action\n",
    "            self.state = np.clip(self.state - np.random.rand(len(self.state)) * 0.15, 0, 1)\n",
    "\n",
    "        # Reward based on reduction in symptom severity\n",
    "        reward = -np.sum(self.state)\n",
    "\n",
    "        # Episode ends when all symptoms are reduced below a threshold\n",
    "        self.done = np.all(self.state < 0.1)\n",
    "\n",
    "        return np.array(self.state, dtype=np.float32), reward, self.done, {}\n",
    "\n",
    "    def render(self, mode='human'):\n",
    "        print(f\"Current symptom severities: {self.state}\")\n"
   ]
  },
  {
   "cell_type": "code",
   "execution_count": 10,
   "metadata": {},
   "outputs": [],
   "source": [
    "# Register the environment\n",
    "register(\n",
    "    id='HealthcareEnv-v0',  # Unique identifier for your environment\n",
    "    entry_point=__name__ + ':HealthcareEnv',  # Specify the path to your environment class\n",
    ")"
   ]
  },
  {
   "cell_type": "code",
   "execution_count": 11,
   "metadata": {},
   "outputs": [
    {
     "name": "stderr",
     "output_type": "stream",
     "text": [
      "/Library/Frameworks/Python.framework/Versions/3.11/lib/python3.11/site-packages/gym/envs/registration.py:563: UserWarning: \u001b[33mWARN: Using the latest versioned environment `HealthcareEnv-v0` instead of the unversioned environment `HealthcareEnv`.\u001b[0m\n",
      "  logger.warn(\n"
     ]
    }
   ],
   "source": [
    "# Create environment\n",
    "env = gym.make('HealthcareEnv')"
   ]
  },
  {
   "cell_type": "code",
   "execution_count": 12,
   "metadata": {},
   "outputs": [
    {
     "name": "stdout",
     "output_type": "stream",
     "text": [
      "Using cpu device\n",
      "Wrapping the env with a `Monitor` wrapper\n",
      "Wrapping the env in a DummyVecEnv.\n"
     ]
    },
    {
     "name": "stderr",
     "output_type": "stream",
     "text": [
      "/Library/Frameworks/Python.framework/Versions/3.11/lib/python3.11/site-packages/stable_baselines3/common/vec_env/patch_gym.py:49: UserWarning: You provided an OpenAI Gym environment. We strongly recommend transitioning to Gymnasium environments. Stable-Baselines3 is automatically wrapping your environments in a compatibility layer, which could potentially cause issues.\n",
      "  warnings.warn(\n",
      "/Library/Frameworks/Python.framework/Versions/3.11/lib/python3.11/site-packages/gym/utils/passive_env_checker.py:174: UserWarning: \u001b[33mWARN: Future gym versions will require that `Env.reset` can be passed a `seed` instead of using `Env.seed` for resetting the environment random number generator.\u001b[0m\n",
      "  logger.warn(\n",
      "/Library/Frameworks/Python.framework/Versions/3.11/lib/python3.11/site-packages/gym/utils/passive_env_checker.py:187: UserWarning: \u001b[33mWARN: Future gym versions will require that `Env.reset` can be passed `options` to allow the environment initialisation to be passed additional information.\u001b[0m\n",
      "  logger.warn(\n",
      "/Library/Frameworks/Python.framework/Versions/3.11/lib/python3.11/site-packages/gym/utils/passive_env_checker.py:195: UserWarning: \u001b[33mWARN: The result returned by `env.reset()` was not a tuple of the form `(obs, info)`, where `obs` is a observation and `info` is a dictionary containing additional information. Actual type: `<class 'numpy.ndarray'>`\u001b[0m\n",
      "  logger.warn(\n",
      "/Library/Frameworks/Python.framework/Versions/3.11/lib/python3.11/site-packages/gym/utils/passive_env_checker.py:219: DeprecationWarning: \u001b[33mWARN: Core environment is written in old step API which returns one bool instead of two. It is recommended to rewrite the environment with new step API. \u001b[0m\n",
      "  logger.deprecation(\n",
      "/Library/Frameworks/Python.framework/Versions/3.11/lib/python3.11/site-packages/gym/utils/passive_env_checker.py:225: DeprecationWarning: `np.bool8` is a deprecated alias for `np.bool_`.  (Deprecated NumPy 1.24)\n",
      "  if not isinstance(done, (bool, np.bool8)):\n"
     ]
    },
    {
     "name": "stdout",
     "output_type": "stream",
     "text": [
      "---------------------------------\n",
      "| rollout/           |          |\n",
      "|    ep_len_mean     | 14.8     |\n",
      "|    ep_rew_mean     | -24.9    |\n",
      "| time/              |          |\n",
      "|    fps             | 5688     |\n",
      "|    iterations      | 1        |\n",
      "|    time_elapsed    | 0        |\n",
      "|    total_timesteps | 2048     |\n",
      "---------------------------------\n",
      "-----------------------------------------\n",
      "| rollout/                |             |\n",
      "|    ep_len_mean          | 14.7        |\n",
      "|    ep_rew_mean          | -24.7       |\n",
      "| time/                   |             |\n",
      "|    fps                  | 3292        |\n",
      "|    iterations           | 2           |\n",
      "|    time_elapsed         | 1           |\n",
      "|    total_timesteps      | 4096        |\n",
      "| train/                  |             |\n",
      "|    approx_kl            | 0.014119925 |\n",
      "|    clip_fraction        | 0.0731      |\n",
      "|    clip_range           | 0.2         |\n",
      "|    entropy_loss         | -6.2        |\n",
      "|    explained_variance   | 0.00758     |\n",
      "|    learning_rate        | 0.0003      |\n",
      "|    loss                 | 8.39        |\n",
      "|    n_updates            | 10          |\n",
      "|    policy_gradient_loss | -0.0483     |\n",
      "|    value_loss           | 47.7        |\n",
      "-----------------------------------------\n",
      "-----------------------------------------\n",
      "| rollout/                |             |\n",
      "|    ep_len_mean          | 15          |\n",
      "|    ep_rew_mean          | -25.2       |\n",
      "| time/                   |             |\n",
      "|    fps                  | 3024        |\n",
      "|    iterations           | 3           |\n",
      "|    time_elapsed         | 2           |\n",
      "|    total_timesteps      | 6144        |\n",
      "| train/                  |             |\n",
      "|    approx_kl            | 0.017168522 |\n",
      "|    clip_fraction        | 0.194       |\n",
      "|    clip_range           | 0.2         |\n",
      "|    entropy_loss         | -6.18       |\n",
      "|    explained_variance   | 0.506       |\n",
      "|    learning_rate        | 0.0003      |\n",
      "|    loss                 | 4.31        |\n",
      "|    n_updates            | 20          |\n",
      "|    policy_gradient_loss | -0.0713     |\n",
      "|    value_loss           | 17.8        |\n",
      "-----------------------------------------\n",
      "-----------------------------------------\n",
      "| rollout/                |             |\n",
      "|    ep_len_mean          | 15          |\n",
      "|    ep_rew_mean          | -25         |\n",
      "| time/                   |             |\n",
      "|    fps                  | 2892        |\n",
      "|    iterations           | 4           |\n",
      "|    time_elapsed         | 2           |\n",
      "|    total_timesteps      | 8192        |\n",
      "| train/                  |             |\n",
      "|    approx_kl            | 0.018823765 |\n",
      "|    clip_fraction        | 0.25        |\n",
      "|    clip_range           | 0.2         |\n",
      "|    entropy_loss         | -6.17       |\n",
      "|    explained_variance   | 0.791       |\n",
      "|    learning_rate        | 0.0003      |\n",
      "|    loss                 | 5.08        |\n",
      "|    n_updates            | 30          |\n",
      "|    policy_gradient_loss | -0.0841     |\n",
      "|    value_loss           | 11.3        |\n",
      "-----------------------------------------\n",
      "----------------------------------------\n",
      "| rollout/                |            |\n",
      "|    ep_len_mean          | 14.8       |\n",
      "|    ep_rew_mean          | -24.5      |\n",
      "| time/                   |            |\n",
      "|    fps                  | 2846       |\n",
      "|    iterations           | 5          |\n",
      "|    time_elapsed         | 3          |\n",
      "|    total_timesteps      | 10240      |\n",
      "| train/                  |            |\n",
      "|    approx_kl            | 0.01909938 |\n",
      "|    clip_fraction        | 0.265      |\n",
      "|    clip_range           | 0.2        |\n",
      "|    entropy_loss         | -6.16      |\n",
      "|    explained_variance   | 0.829      |\n",
      "|    learning_rate        | 0.0003     |\n",
      "|    loss                 | 4.15       |\n",
      "|    n_updates            | 40         |\n",
      "|    policy_gradient_loss | -0.0859    |\n",
      "|    value_loss           | 9.78       |\n",
      "----------------------------------------\n"
     ]
    },
    {
     "data": {
      "text/plain": [
       "<stable_baselines3.ppo.ppo.PPO at 0x17e2c0310>"
      ]
     },
     "execution_count": 12,
     "metadata": {},
     "output_type": "execute_result"
    }
   ],
   "source": [
    "# Train the PPO model\n",
    "model = PPO('MlpPolicy', env, verbose=1)\n",
    "model.learn(total_timesteps=10000)"
   ]
  },
  {
   "cell_type": "code",
   "execution_count": 13,
   "metadata": {},
   "outputs": [],
   "source": [
    "# Save the model\n",
    "model.save(\"healthcare_recommendation_model2\")"
   ]
  },
  {
   "cell_type": "code",
   "execution_count": 14,
   "metadata": {},
   "outputs": [],
   "source": [
    "# Load the trained model\n",
    "model = PPO.load(\"healthcare_recommendation_model2\")"
   ]
  },
  {
   "cell_type": "code",
   "execution_count": 15,
   "metadata": {},
   "outputs": [],
   "source": [
    "# Define action mapping\n",
    "action_mapping = { \n",
    "    **{i: f\"Diet: {diets.iloc[i, 0]}\" for i in range(len(diets))},\n",
    "    **{len(diets) + i: f\"Medication: {medications.iloc[i, 0]}\" for i in range(len(medications))},\n",
    "    **{len(diets) + len(medications) + i: f\"Workout: {workouts.iloc[i, 0]}\" for i in range(len(workouts))}\n",
    "}"
   ]
  },
  {
   "cell_type": "code",
   "execution_count": 23,
   "metadata": {},
   "outputs": [],
   "source": [
    "def get_recommendations(symptom_list, model, env, mlb, action_mapping):\n",
    "    # One-hot encode user symptoms\n",
    "    encoded_input = mlb.transform([symptom_list]).flatten()\n",
    "\n",
    "    # Reset environment and set the state to user input\n",
    "    env.reset()\n",
    "    env.state = encoded_input\n",
    "    env.done = False\n",
    "\n",
    "    # Get recommendations\n",
    "    state = np.array(encoded_input, dtype=np.float32)\n",
    "    recommendations = []\n",
    "\n",
    "    print(\"Processing your symptoms...\")\n",
    "    while True:\n",
    "        # Predict action\n",
    "        action, _ = model.predict(state)\n",
    "        action = int(action)  # Convert action from NumPy array to scalar\n",
    "\n",
    "        # Map action to recommendation\n",
    "        recommendation = action_mapping.get(action, \"Unknown Action\")\n",
    "        recommendations.append(recommendation)\n",
    "\n",
    "        # Take the action in the environment\n",
    "        next_state, reward, done, _ = env.step(action)\n",
    "        if done:\n",
    "            break\n",
    "        state = next_state\n",
    "\n",
    "    return recommendations\n"
   ]
  },
  {
   "cell_type": "code",
   "execution_count": 24,
   "metadata": {},
   "outputs": [],
   "source": [
    "# Example: Get user input and provide recommendations\n",
    "user_symptoms = input(\"Enter your symptoms separated by commas: \").split(',')\n",
    "user_symptoms = [s.strip() for s in user_symptoms]"
   ]
  },
  {
   "cell_type": "code",
   "execution_count": 25,
   "metadata": {},
   "outputs": [
    {
     "name": "stdout",
     "output_type": "stream",
     "text": [
      "Processing your symptoms...\n"
     ]
    }
   ],
   "source": [
    "recommendations = get_recommendations(user_symptoms, model, env, mlb, action_mapping)"
   ]
  },
  {
   "cell_type": "code",
   "execution_count": 26,
   "metadata": {},
   "outputs": [
    {
     "name": "stdout",
     "output_type": "stream",
     "text": [
      "Here are your personalized recommendations:\n",
      "- Workout: 7\n",
      "- Workout: 42\n",
      "- Workout: 318\n",
      "- Workout: 225\n",
      "- Diet: (vertigo) Paroymsal Positional Vertigo\n",
      "- Workout: 334\n",
      "- Workout: 72\n",
      "- Workout: 165\n",
      "- Workout: 54\n",
      "- Workout: 9\n",
      "- Workout: 35\n",
      "- Workout: 132\n",
      "- Workout: 342\n"
     ]
    }
   ],
   "source": [
    "print(\"Here are your personalized recommendations:\")\n",
    "for rec in recommendations:\n",
    "    print(f\"- {rec}\")"
   ]
  }
 ],
 "metadata": {
  "kernelspec": {
   "display_name": "Python 3",
   "language": "python",
   "name": "python3"
  },
  "language_info": {
   "codemirror_mode": {
    "name": "ipython",
    "version": 3
   },
   "file_extension": ".py",
   "mimetype": "text/x-python",
   "name": "python",
   "nbconvert_exporter": "python",
   "pygments_lexer": "ipython3",
   "version": "3.11.9"
  }
 },
 "nbformat": 4,
 "nbformat_minor": 2
}
